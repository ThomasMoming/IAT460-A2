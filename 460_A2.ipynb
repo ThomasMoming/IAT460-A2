{
  "nbformat": 4,
  "nbformat_minor": 0,
  "metadata": {
    "colab": {
      "provenance": [],
      "authorship_tag": "ABX9TyMm5cK14AgDwwiFcLPhOgXM",
      "include_colab_link": true
    },
    "kernelspec": {
      "name": "python3",
      "display_name": "Python 3"
    },
    "language_info": {
      "name": "python"
    }
  },
  "cells": [
    {
      "cell_type": "markdown",
      "metadata": {
        "id": "view-in-github",
        "colab_type": "text"
      },
      "source": [
        "<a href=\"https://colab.research.google.com/github/ThomasMoming/IAT460-A2/blob/main/460_A2.ipynb\" target=\"_parent\"><img src=\"https://colab.research.google.com/assets/colab-badge.svg\" alt=\"Open In Colab\"/></a>"
      ]
    },
    {
      "cell_type": "code",
      "execution_count": 1,
      "metadata": {
        "colab": {
          "base_uri": "https://localhost:8080/"
        },
        "id": "BSaZh2H26w3c",
        "outputId": "7e499040-fe8e-4d6d-a3ee-7aee1a13fdde"
      },
      "outputs": [
        {
          "output_type": "stream",
          "name": "stdout",
          "text": [
            "Collecting tracery\n",
            "  Downloading tracery-0.1.1.tar.gz (8.1 kB)\n",
            "  Preparing metadata (setup.py) ... \u001b[?25l\u001b[?25hdone\n",
            "Building wheels for collected packages: tracery\n",
            "  Building wheel for tracery (setup.py) ... \u001b[?25l\u001b[?25hdone\n",
            "  Created wheel for tracery: filename=tracery-0.1.1-py3-none-any.whl size=7681 sha256=17b3bcd711ef279d02a3d7bf7b02263a70f08a4bac4520a14452c394533653a6\n",
            "  Stored in directory: /root/.cache/pip/wheels/01/7e/b2/55c94c8ee93425fdc7a582c824ae57abd8e0b0d55a55c4ee9b\n",
            "Successfully built tracery\n",
            "Installing collected packages: tracery\n",
            "Successfully installed tracery-0.1.1\n"
          ]
        }
      ],
      "source": [
        "# 安装 tracery（用于 CFG 生成）\n",
        "!pip install tracery\n",
        "\n",
        "from collections import defaultdict\n",
        "import random\n",
        "import tracery\n",
        "from tracery.modifiers import base_english\n"
      ]
    },
    {
      "cell_type": "code",
      "source": [
        "import numpy as np\n"
      ],
      "metadata": {
        "id": "Chu5KwEuKtV1"
      },
      "execution_count": 31,
      "outputs": []
    },
    {
      "cell_type": "code",
      "source": [
        "#构建CFG\n",
        "rules = {\n",
        "    \"start\": [\n",
        "        \"#act1# #act2# #act3#\"\n",
        "    ],\n",
        "\n",
        "    # 第一幕：主角回归\n",
        "    \"act1\": [\n",
        "        \"#protagonist# has been in hiding for years, but today, he finally returns to Vancouver. #discovery#. He clenches his fist, eyes cold as ice: '#first_reaction#'\"\n",
        "    ],\n",
        "    \"protagonist\": [\"Wilson, the Shadow Emperor of Canada\"],\n",
        "    \"discovery\": [\n",
        "        \"His family was humiliated by the local mafia\",\n",
        "        \"His fiancée Via was forced into marriage by a consortium\",\n",
        "        \"His old rival has taken control of the entire business empire\",\n",
        "        \"His old friend betrayed him and took away his inheritance\",\n",
        "        \"His family's wealth was stolen and they were left in ruins\"\n",
        "    ],\n",
        "    \"first_reaction\": [\n",
        "        \"'Those who dare harm my family will pay the price!'\",\n",
        "        \"'Dare to harm my people? You are seeking death!'\",\n",
        "        \"'From today, the world will remember my name!'\",\n",
        "        \"'I swore never to look back, but you forced me…'\",\n",
        "    ],\n",
        "\n",
        "    # 第二幕：觉醒、反击\n",
        "    \"act2\": [\n",
        "        \"Years of patience and restraint finally came to an end. {BUSINESS}, shocking everyone. The enemy sneers: '#villain_mock#'.Just as everyone thought he would fail, Mr. Little Potato appeared beside him and called out 'Boss!\"\n",
        "    ],\n",
        "    \"villain_mock\": [\n",
        "        \"'A washed-up fool like you dares to return? Hilarious!'\",\n",
        "        \"'Once a loser, always a loser. Get lost!'\",\n",
        "        \"'You think you can challenge me? Know your place!'\",\n",
        "        \"'Pathetic. You’re nothing but a joke to us.'\",\n",
        "        \"'Did you come back just to embarrass yourself again?'\"\n",
        "    ],\n",
        "\n",
        "    # 第三幕：最终胜利\n",
        "    \"act3\": [\n",
        "        \"In the end, he {REVENGE}, leaving the world in shock. #result#\"\n",
        "    ],\n",
        "    \"result\": [\n",
        "        \"The audience fell to their knees, unable to raise their heads.\",\n",
        "        \"His enemies now trembled and begged for mercy with tears in their eyes.\",\n",
        "        \"He turned and walked away, leaving behind his legend - untouchable, unbeatable, unrivaled.\"\n",
        "    ]\n",
        "}\n",
        "\n",
        "grammar = tracery.Grammar(rules)\n",
        "grammar.add_modifiers(base_english)\n",
        "\n",
        "# 生成基本剧情框架\n",
        "story_skeleton = grammar.flatten(\"#start#\")\n",
        "print(\"基础剧情结构:\", story_skeleton)"
      ],
      "metadata": {
        "colab": {
          "base_uri": "https://localhost:8080/"
        },
        "id": "3pQkgN149AHZ",
        "outputId": "d5c2e990-0400-40ae-d7bc-e692695f77c7"
      },
      "execution_count": 40,
      "outputs": [
        {
          "output_type": "stream",
          "name": "stdout",
          "text": [
            "基础剧情结构: Wilson, the Shadow Emperor of Canada has been in hiding for years, but today, he finally returns to Vancouver. His family was humiliated by the local mafia. He clenches his fist, eyes cold as ice: ''Those who dare harm my family will pay the price!'' Years of patience and restraint finally came to an end. {BUSINESS}, shocking everyone. The enemy sneers: ''A washed-up fool like you dares to return? Hilarious!''.Just as everyone thought he would fail, Mr. Little Potato appeared beside him and called out 'Boss! In the end, he {REVENGE}, leaving the world in shock. His enemies now trembled and begged for mercy with tears in their eyes.\n"
          ]
        }
      ]
    },
    {
      "cell_type": "code",
      "source": [
        "def build_markov_chain(text, order=3):\n",
        "    chain = defaultdict(list)\n",
        "    words = text.split()\n",
        "\n",
        "    for i in range(len(words) - order):\n",
        "        state = tuple(words[i:i+order])\n",
        "        next_word = words[i+order]\n",
        "        chain[state].append(next_word)\n",
        "\n",
        "    return chain\n",
        "\n",
        "def generate_weighted_text(chain, num_words=50):\n",
        "    words = list(random.choice(list(chain.keys())))\n",
        "    order = len(list(chain.keys())[0])\n",
        "\n",
        "    for _ in range(num_words - order):\n",
        "        state = tuple(words[-order:])\n",
        "        if state in chain:\n",
        "            next_words = chain[state]\n",
        "            word_counts = {word: next_words.count(word) for word in set(next_words)}\n",
        "            words_list, weights = zip(*word_counts.items())\n",
        "            probabilities = np.array(weights) / sum(weights)  # 归一化概率\n",
        "            next_word = np.random.choice(words_list, p=probabilities)\n",
        "            words.append(next_word)\n",
        "        else:\n",
        "            break\n",
        "\n",
        "    return ' '.join(words)\n",
        "\n",
        "\n",
        "# 训练数据（你可以替换成更长的龙王小说文本）\n",
        "sample_text = \"\"\"\n",
        "After ten years of exile, Wilson stood at the entrance of the grand city that had once cast him aside. His family, once a dominant force, had been trampled underfoot by their enemies.\n",
        "\n",
        "\"Look who dares to return,\" a sneering voice called. It was Logan Carter, the man who had orchestrated his family's downfall. \"You should have stayed in the shadows.\"\n",
        "\n",
        "Wilson’s gaze was cold, his aura overwhelming. \"Ten years ago, I swore I'd reclaim everything. Those who wronged me will kneel before me.\"\n",
        "\n",
        "Carter laughed. \"You? A useless exile? What can you do?\"\n",
        "\n",
        "A loud crack echoed as Wilson stepped forward. The air itself seemed to ripple with his presence. \"Kneel,\" he commanded.\n",
        "\n",
        "To everyone's shock, Carter trembled and collapsed to his knees. The once-mighty tyrant was now nothing more than a shivering coward.\n",
        "\n",
        "\n",
        "Wilson entered the grand wedding hall, where his fiancée, the woman who had sworn to wait for him, was about to marry another man.\n",
        "\n",
        "\"How dare you show your face here?\" Lucas Grey, the wealthy heir, smirked from the altar. \"She's mine now.\"\n",
        "\n",
        "Wilson’s eyes burned with fury. He stepped forward, his mere presence sending shivers through the crowd. \"You think you can take what belongs to me?\"\n",
        "\n",
        "Before Lucas could react, Wilson flicked his wrist. A gust of unseen force knocked Lucas to the ground, his expensive suit now covered in dust.\n",
        "\n",
        "\"From this moment on,\" Wilson declared, \"anyone who dares touch what’s mine will regret it.\"\n",
        "\n",
        "The corporate elites laughed as Wilson walked into the conference room. \"So, the beggar has returned?\" mocked Edward Langley, the CEO of Langley Enterprises.\n",
        "\n",
        "\n",
        "Wilson smirked, his fingers tapping on the document in front of him. \"This is the contract that dissolves your company, effective immediately.\"\n",
        "\n",
        "Langley's smile froze. \"That's impossible!\"\n",
        "\n",
        "\"Is it?\" Wilson raised an eyebrow. \"When I left, I didn’t just disappear. I built an empire. And now, I’m taking back what’s rightfully mine.\"\n",
        "\n",
        "Langley collapsed into his chair, his face pale. Wilson turned, walking away as the room filled with whispers of his terrifying comeback.\n",
        "\n",
        "\n",
        "At the grand auction, the priceless via was about to be sold to a wealthy magnate when Wilson stepped in.\n",
        "\n",
        "\"That artifact belongs to my family,\" he said coldly.\n",
        "\n",
        "The magnate sneered. \"Everything has a price, boy.\"\n",
        "\n",
        "Wilson chuckled and tossed a black card onto the table. \"Then I'll buy it. And while I'm at it, I'll buy this entire auction house.\"\n",
        "\n",
        "The room fell silent. Even the wealthiest elites couldn't afford such extravagance. The magnate's face twisted in disbelief as the auctioneer stammered, \"S-Sold!\"\n",
        "\n",
        "\n",
        "Wilson walked into the underground fighting ring, where champions had reigned undefeated for years.\n",
        "\n",
        "\"You think you can challenge me?\" growled Brutus, the reigning champion.\n",
        "\n",
        "Wilson cracked his knuckles. \"I don’t think. I know.\"\n",
        "\n",
        "The fight was over in seconds. Wilson didn't just defeat Brutus—he humiliated him. The once-mighty warrior lay sprawled on the ground, gasping for breath.\n",
        "\n",
        "From that day on, no one dared to question Wilson’s strength.\n",
        "\n",
        "\n",
        "Wilson's younger sister had been bullied relentlessly by the wealthy and powerful. Today, he would end it.\n",
        "\n",
        "Walking into the elite private school, he found the ringleader, Daniel Mercer.\n",
        "\n",
        "\"You’ve been hurting my family,\" Wilson said, his voice like steel.\n",
        "\n",
        "Mercer scoffed. \"So what? What can you do about it?\"\n",
        "\n",
        "Wilson smiled coldly. \"Apologize.\"\n",
        "\n",
        "\"Or what?\"\n",
        "\n",
        "A loud crack echoed as Wilson grabbed Mercer’s wrist and twisted. The arrogant young master screamed, begging for mercy.\n",
        "\n",
        "\"From now on,\" Wilson said, \"no one touches my family.\"\n",
        "\n",
        "\n",
        "\n",
        "\"Wilson? Never heard of him.\"\n",
        "\n",
        "That was the response of the elite socialites when Wilson returned to the city.\n",
        "\n",
        "By the end of the week, his name was on everyone's lips.\n",
        "\n",
        "Within days, he had taken over the largest corporation, crushed his old enemies, and reclaimed his family estate.\n",
        "\n",
        "\"Still never heard of me?\" he asked his former foes, who now knelt before him.\n",
        "\n",
        "\n",
        "A waiter in a five-star restaurant spilled wine on Wilson, laughing as he mocked, \"You can't afford this place anyway.\"\n",
        "\n",
        "Wilson smiled. \"Is that so?\"\n",
        "\n",
        "Minutes later, the restaurant's owner rushed in, bowing. \"Sir! I had no idea you were dining here. This establishment is now yours.\"\n",
        "\n",
        "The waiter's face turned ghostly pale as he stammered, \"I-I was just joking!\"\n",
        "\n",
        "Wilson took his time sipping his wine. \"So was I.\"\n",
        "\n",
        "\n",
        "Accused of a crime he didn’t commit, Wilson was dragged to court. The prosecution smirked, convinced they had won.\n",
        "\n",
        "Then Wilson handed the judge a document. \"This proves my innocence. And more than that, it proves the real culprit.\"\n",
        "\n",
        "The entire courtroom gasped as the real criminal, sitting in the audience, turned pale.\n",
        "\n",
        "\"Case dismissed,\" the judge announced.\n",
        "\n",
        "Wilson walked away, his enemies now trapped in their own schemes.\n",
        "\n",
        "\n",
        "\n",
        "A lavish party was being held by the city’s elites when Wilson stepped through the doors.\n",
        "\n",
        "\"Who let the beggar in?\" someone sneered.\n",
        "\n",
        "Wilson smirked. \"Beggar? Look again.\"\n",
        "\n",
        "He tossed a document onto the table. It was a deed—he now owned their entire estate.\n",
        "\n",
        "The sneers turned to gasps as everyone realized they had mocked the wrong man.\n",
        "\n",
        "\n",
        "\"\"\"\n",
        "\n",
        "# 构建马尔可夫链\n",
        "chain = build_markov_chain(sample_text, order=3)\n",
        "\n",
        "\n"
      ],
      "metadata": {
        "id": "7dWVWyUR9Jt-"
      },
      "execution_count": 35,
      "outputs": []
    },
    {
      "cell_type": "code",
      "source": [
        "battle_text = generate_weighted_text(chain, num_words=50)\n",
        "business_text = generate_weighted_text(chain, num_words=50)\n",
        "revenge_text = generate_weighted_text(chain, num_words=50)\n",
        "story_skeleton = grammar.flatten(\"#start#\")\n",
        "\n",
        "# 使用占位符填充 Markov Chain 生成的细节\n",
        "final_story = (story_skeleton\n",
        "               .replace(\"{BATTLE}\", battle_text)\n",
        "               .replace(\"{BUSINESS}\", business_text)\n",
        "               .replace(\"{REVENGE}\", revenge_text))\n",
        "\n",
        "print(\"\\nFinal Story:\\n\", final_story)\n"
      ],
      "metadata": {
        "colab": {
          "base_uri": "https://localhost:8080/"
        },
        "id": "nHLzzU0A9OqX",
        "outputId": "ef94c813-dfbb-4962-d410-670cede23d56"
      },
      "execution_count": 42,
      "outputs": [
        {
          "output_type": "stream",
          "name": "stdout",
          "text": [
            "\n",
            "Final Story:\n",
            " Wilson, the Shadow Emperor of Canada has been in hiding for years, but today, he finally returns to Vancouver. His old friend betrayed him and took away his inheritance. He clenches his fist, eyes cold as ice: ''I swore never to look back, but you forced me…'' Years of patience and restraint finally came to an end. Langley Enterprises. Wilson smirked, his fingers tapping on the document in front of him. \"This is the contract that dissolves your company, effective immediately.\" Langley's smile froze. \"That's impossible!\" \"Is it?\" Wilson raised an eyebrow. \"When I left, I didn’t just disappear. I built an empire. And now, I’m taking, shocking everyone. The enemy sneers: ''You think you can challenge me? Know your place!''.Just as everyone thought he would fail, Mr. Little Potato appeared beside him and called out 'Boss! In the end, he stepped through the doors. \"Who let the beggar in?\" someone sneered. Wilson smirked. \"Beggar? Look again.\" He tossed a document onto the table. \"Then I'll buy it. And while I'm at it, I'll buy this entire auction house.\" The room fell silent. Even the wealthiest elites couldn't afford such extravagance., leaving the world in shock. His enemies now trembled and begged for mercy with tears in their eyes.\n"
          ]
        }
      ]
    },
    {
      "cell_type": "code",
      "source": [
        "# 生成多个故事\n",
        "num_stories = 5  # 生成 5 个不同的故事\n",
        "\n",
        "for i in range(num_stories):\n",
        "    # 重新生成故事骨架\n",
        "    story_skeleton = grammar.flatten(\"#start#\")\n",
        "\n",
        "    # 重新生成 Markov Chain 生成的细节文本\n",
        "    battle_text = generate_weighted_text(chain, num_words=50)\n",
        "    business_text = generate_weighted_text(chain, num_words=50)\n",
        "    revenge_text = generate_weighted_text(chain, num_words=50)\n",
        "\n",
        "    # 使用占位符填充 Markov Chain 生成的细节\n",
        "    final_story = (story_skeleton\n",
        "                   .replace(\"{BATTLE}\", battle_text)\n",
        "                   .replace(\"{BUSINESS}\", business_text)\n",
        "                   .replace(\"{REVENGE}\", revenge_text))\n",
        "\n",
        "    # 打印每个故事\n",
        "    print(f\"\\nFinal Story {i+1}:\\n\")\n",
        "    print(final_story)\n",
        "    print(\"\\n\" + \"=\"*80 + \"\\n\")  # 分隔不同的故事\n"
      ],
      "metadata": {
        "colab": {
          "base_uri": "https://localhost:8080/"
        },
        "id": "_wGSsj-LKkqO",
        "outputId": "dcc69b84-2b93-43ce-e2de-cca706e5bf99"
      },
      "execution_count": 43,
      "outputs": [
        {
          "output_type": "stream",
          "name": "stdout",
          "text": [
            "\n",
            "Final Story 1:\n",
            "\n",
            "Wilson, the Shadow Emperor of Canada has been in hiding for years, but today, he finally returns to Vancouver. His fiancée Via was forced into marriage by a consortium. He clenches his fist, eyes cold as ice: ''From today, the world will remember my name!'' Years of patience and restraint finally came to an end. Wilson walked into the conference room. \"So, the beggar has returned?\" mocked Edward Langley, the CEO of Langley Enterprises. Wilson smirked, his fingers tapping on the document in front of him. \"This is the contract that dissolves your company, effective immediately.\" Langley's smile froze. \"That's impossible!\" \"Is it?\" Wilson raised, shocking everyone. The enemy sneers: ''Did you come back just to embarrass yourself again?''.Just as everyone thought he would fail, Mr. Little Potato appeared beside him and called out 'Boss! In the end, he of the elite socialites when Wilson returned to the city. By the end of the week, his name was on everyone's lips. Within days, he had taken over the largest corporation, crushed his old enemies, and reclaimed his family estate. \"Still never heard of me?\" he asked his former foes,, leaving the world in shock. He turned and walked away, leaving behind his legend - untouchable, unbeatable, unrivaled.\n",
            "\n",
            "================================================================================\n",
            "\n",
            "\n",
            "Final Story 2:\n",
            "\n",
            "Wilson, the Shadow Emperor of Canada has been in hiding for years, but today, he finally returns to Vancouver. His family's wealth was stolen and they were left in ruins. He clenches his fist, eyes cold as ice: ''Dare to harm my people? You are seeking death!'' Years of patience and restraint finally came to an end. Carter trembled and collapsed to his knees. The once-mighty tyrant was now nothing more than a shivering coward. Wilson entered the grand wedding hall, where his fiancée, the woman who had sworn to wait for him, was about to marry another man. \"How dare you show your face here?\" Lucas, shocking everyone. The enemy sneers: ''Did you come back just to embarrass yourself again?''.Just as everyone thought he would fail, Mr. Little Potato appeared beside him and called out 'Boss! In the end, he that day on, no one dared to question Wilson’s strength. Wilson's younger sister had been bullied relentlessly by the wealthy and powerful. Today, he would end it. Walking into the elite private school, he found the ringleader, Daniel Mercer. \"You’ve been hurting my family,\" Wilson said, his voice like steel., leaving the world in shock. He turned and walked away, leaving behind his legend - untouchable, unbeatable, unrivaled.\n",
            "\n",
            "================================================================================\n",
            "\n",
            "\n",
            "Final Story 3:\n",
            "\n",
            "Wilson, the Shadow Emperor of Canada has been in hiding for years, but today, he finally returns to Vancouver. His old rival has taken control of the entire business empire. He clenches his fist, eyes cold as ice: ''Dare to harm my people? You are seeking death!'' Years of patience and restraint finally came to an end. orchestrated his family's downfall. \"You should have stayed in the shadows.\" Wilson’s gaze was cold, his aura overwhelming. \"Ten years ago, I swore I'd reclaim everything. Those who wronged me will kneel before me.\" Carter laughed. \"You? A useless exile? What can you do about it?\" Wilson smiled coldly. \"Apologize.\", shocking everyone. The enemy sneers: ''A washed-up fool like you dares to return? Hilarious!''.Just as everyone thought he would fail, Mr. Little Potato appeared beside him and called out 'Boss! In the end, he fighting ring, where champions had reigned undefeated for years. \"You think you can challenge me?\" growled Brutus, the reigning champion. Wilson cracked his knuckles. \"I don’t think. I know.\" The fight was over in seconds. Wilson didn't just defeat Brutus—he humiliated him. The once-mighty warrior lay sprawled on the ground,, leaving the world in shock. His enemies now trembled and begged for mercy with tears in their eyes.\n",
            "\n",
            "================================================================================\n",
            "\n",
            "\n",
            "Final Story 4:\n",
            "\n",
            "Wilson, the Shadow Emperor of Canada has been in hiding for years, but today, he finally returns to Vancouver. His old rival has taken control of the entire business empire. He clenches his fist, eyes cold as ice: ''From today, the world will remember my name!'' Years of patience and restraint finally came to an end. his family estate. \"Still never heard of me?\" he asked his former foes, who now knelt before him. A waiter in a five-star restaurant spilled wine on Wilson, laughing as he mocked, \"You can't afford this place anyway.\" Wilson smiled. \"Is that so?\" Minutes later, the restaurant's owner rushed in,, shocking everyone. The enemy sneers: ''A washed-up fool like you dares to return? Hilarious!''.Just as everyone thought he would fail, Mr. Little Potato appeared beside him and called out 'Boss! In the end, he you were dining here. This establishment is now yours.\" The waiter's face turned ghostly pale as he stammered, \"I-I was just joking!\" Wilson took his time sipping his wine. \"So was I.\" Accused of a crime he didn’t commit, Wilson was dragged to court. The prosecution smirked, convinced they had, leaving the world in shock. He turned and walked away, leaving behind his legend - untouchable, unbeatable, unrivaled.\n",
            "\n",
            "================================================================================\n",
            "\n",
            "\n",
            "Final Story 5:\n",
            "\n",
            "Wilson, the Shadow Emperor of Canada has been in hiding for years, but today, he finally returns to Vancouver. His old rival has taken control of the entire business empire. He clenches his fist, eyes cold as ice: ''Dare to harm my people? You are seeking death!'' Years of patience and restraint finally came to an end. sneering voice called. It was Logan Carter, the man who had orchestrated his family's downfall. \"You should have stayed in the shadows.\" Wilson’s gaze was cold, his aura overwhelming. \"Ten years ago, I swore I'd reclaim everything. Those who wronged me will kneel before me.\" Carter laughed. \"You? A useless, shocking everyone. The enemy sneers: ''Did you come back just to embarrass yourself again?''.Just as everyone thought he would fail, Mr. Little Potato appeared beside him and called out 'Boss! In the end, he that dissolves your company, effective immediately.\" Langley's smile froze. \"That's impossible!\" \"Is it?\" Wilson raised an eyebrow. \"When I left, I didn’t just disappear. I built an empire. And now, I’m taking back what’s rightfully mine.\" Langley collapsed into his chair, his face pale. Wilson turned, walking away as the, leaving the world in shock. He turned and walked away, leaving behind his legend - untouchable, unbeatable, unrivaled.\n",
            "\n",
            "================================================================================\n",
            "\n"
          ]
        }
      ]
    }
  ]
}